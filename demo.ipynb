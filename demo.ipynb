{
 "cells": [
  {
   "cell_type": "code",
   "execution_count": 4,
   "id": "6e4fe2b7",
   "metadata": {},
   "outputs": [],
   "source": [
    "import pandas as pd\n",
    "from pprint import pprint\n",
    "from comprehend_detect import ComprehendDetect\n",
    "from detect_pi_si import *\n",
    "from PIDetectAnalysis import *\n",
    "import boto3\n",
    "from botocore.exceptions import ClientError\n",
    "import warnings\n",
    "warnings.filterwarnings('ignore')\n",
    "comprehend_client = boto3.client(\"comprehend\")"
   ]
  },
  {
   "cell_type": "code",
   "execution_count": 16,
   "id": "e51605da",
   "metadata": {},
   "outputs": [
    {
     "name": "stdout",
     "output_type": "stream",
     "text": [
      "[{'BeginOffset': 0,\n",
      "  'EndOffset': 9,\n",
      "  'Score': 0.9999734163284302,\n",
      "  'Type': 'NAME'},\n",
      " {'BeginOffset': 28,\n",
      "  'EndOffset': 58,\n",
      "  'Score': 0.9999976754188538,\n",
      "  'Type': 'ADDRESS'},\n",
      " {'BeginOffset': 67,\n",
      "  'EndOffset': 76,\n",
      "  'Score': 0.9999994039535522,\n",
      "  'Type': 'SSN'},\n",
      " {'BeginOffset': 96,\n",
      "  'EndOffset': 112,\n",
      "  'Score': 0.9999847412109375,\n",
      "  'Type': 'CREDIT_DEBIT_NUMBER'},\n",
      " {'BeginOffset': 113,\n",
      "  'EndOffset': 137,\n",
      "  'Score': 0.9999936819076538,\n",
      "  'Type': 'EMAIL'},\n",
      " {'BeginOffset': 138,\n",
      "  'EndOffset': 164,\n",
      "  'Score': 0.9999992251396179,\n",
      "  'Type': 'URL'}]\n"
     ]
    }
   ],
   "source": [
    "text = \"Sean Dyer a person lived at 4972 W. 129th Ter. Leawood, KS has ssn 489864926 credit card number 4734391837502655 analyticmodels@gmail.com https://analyticmodels.net\"\n",
    "comp_detect = ComprehendDetect(comprehend_client)\n",
    "pii_list = comp_detect.detect_pii(text, 'en')\n",
    "pprint(pii_list)"
   ]
  },
  {
   "cell_type": "code",
   "execution_count": 6,
   "id": "f5855398",
   "metadata": {},
   "outputs": [
    {
     "name": "stdout",
     "output_type": "stream",
     "text": [
      "                                      free_form_text  \\\n",
      "0  Allison Hill from East Jill working at Yang, G...   \n",
      "1  Gina Moore from Curtisfurt working at Howard L...   \n",
      "2  Victoria Wyatt from South Joshuastad working a...   \n",
      "3  Jennifer Jones from Jasonfort working at Wilke...   \n",
      "4  Shannon Smith from Lake Nicoleview working at ...   \n",
      "5  Shawn Arroyo from Lake Toddland working at Can...   \n",
      "6  Leah Smith from East Carloston working at Jone...   \n",
      "7  Gerald Hensley from East James working at Tayl...   \n",
      "8  Sarah Martin from Olsonfurt working at Martin ...   \n",
      "9  Edward Novak from Lake Leeton working at Woods...   \n",
      "\n",
      "                                               Text2                Phone  \\\n",
      "0                                                NaN                  NaN   \n",
      "1   'Enough analysis least by two bad fall pick.'...                  NaN   \n",
      "2             'Reduce raise author play move.' Phone        276.483.5030.   \n",
      "3   'Enter east no enjoy.' Contact at icox@hotmai...   101.226.9166x9784.   \n",
      "4                                                NaN                  NaN   \n",
      "5                                                NaN                  NaN   \n",
      "6   'Democrat car very number line six space.' Phone        116.566.7010.   \n",
      "7   'Economic type kitchen technology nearly anyt...         857-02-1529.   \n",
      "8   'Enter six lawyer institution whatever yet.' SSN         570-85-7974.   \n",
      "9                                                NaN                  NaN   \n",
      "\n",
      "   Phone2  \n",
      "0     NaN  \n",
      "1     NaN  \n",
      "2     NaN  \n",
      "3     NaN  \n",
      "4     NaN  \n",
      "5     NaN  \n",
      "6     NaN  \n",
      "7     NaN  \n",
      "8     NaN  \n",
      "9     NaN  \n"
     ]
    },
    {
     "ename": "ParamValidationError",
     "evalue": "Parameter validation failed:\nInvalid type for parameter Text, value: nan, type: <class 'float'>, valid types: <class 'str'>",
     "output_type": "error",
     "traceback": [
      "\u001b[31m---------------------------------------------------------------------------\u001b[39m",
      "\u001b[31mParamValidationError\u001b[39m                      Traceback (most recent call last)",
      "\u001b[36mCell\u001b[39m\u001b[36m \u001b[39m\u001b[32mIn[6]\u001b[39m\u001b[32m, line 7\u001b[39m\n\u001b[32m      5\u001b[39m \u001b[38;5;28mprint\u001b[39m(df)\n\u001b[32m      6\u001b[39m \u001b[33;03m'''return PI detections as dataframe'''\u001b[39;00m\n\u001b[32m----> \u001b[39m\u001b[32m7\u001b[39m df_pi = \u001b[43mdetect_pi\u001b[49m\u001b[43m(\u001b[49m\u001b[43mdf\u001b[49m\u001b[43m,\u001b[49m\u001b[43mcomp_detect\u001b[49m\u001b[43m)\u001b[49m\n\u001b[32m      9\u001b[39m \u001b[33;03m'''Redact PI detections'''\u001b[39;00m\n\u001b[32m     10\u001b[39m df_redacted = redact_df(df,df_pi)\n",
      "\u001b[36mFile \u001b[39m\u001b[32m~/repos/comprehendTest/detect_pi_si.py:13\u001b[39m, in \u001b[36mdetect_pi\u001b[39m\u001b[34m(df, comp_detect)\u001b[39m\n\u001b[32m     11\u001b[39m n_rows += \u001b[32m1\u001b[39m\n\u001b[32m     12\u001b[39m \u001b[38;5;28;01mfor\u001b[39;00m col \u001b[38;5;129;01min\u001b[39;00m df.columns:\n\u001b[32m---> \u001b[39m\u001b[32m13\u001b[39m     pii_list = \u001b[43mcomp_detect\u001b[49m\u001b[43m.\u001b[49m\u001b[43mdetect_pii\u001b[49m\u001b[43m(\u001b[49m\u001b[38;5;28;43mgetattr\u001b[39;49m\u001b[43m(\u001b[49m\u001b[43mrow\u001b[49m\u001b[43m,\u001b[49m\u001b[43m \u001b[49m\u001b[43mcol\u001b[49m\u001b[43m)\u001b[49m\u001b[43m,\u001b[49m\u001b[43m \u001b[49m\u001b[33;43m'\u001b[39;49m\u001b[33;43men\u001b[39;49m\u001b[33;43m'\u001b[39;49m\u001b[43m)\u001b[49m\n\u001b[32m     14\u001b[39m     \u001b[38;5;28;01mfor\u001b[39;00m j \u001b[38;5;129;01min\u001b[39;00m \u001b[38;5;28mrange\u001b[39m(\u001b[38;5;28mlen\u001b[39m(pii_list)):\n\u001b[32m     15\u001b[39m         pii_list[j][\u001b[33m'\u001b[39m\u001b[33mfield\u001b[39m\u001b[33m'\u001b[39m] = col\n",
      "\u001b[36mFile \u001b[39m\u001b[32m~/repos/comprehendTest/comprehend_detect.py:77\u001b[39m, in \u001b[36mComprehendDetect.detect_pii\u001b[39m\u001b[34m(self, text, language_code)\u001b[39m\n\u001b[32m     68\u001b[39m \u001b[38;5;250m\u001b[39m\u001b[33;03m\"\"\"\u001b[39;00m\n\u001b[32m     69\u001b[39m \u001b[33;03mDetects personally identifiable information (PII) in a document. PII can be\u001b[39;00m\n\u001b[32m     70\u001b[39m \u001b[33;03mthings like names, account numbers, or addresses.\u001b[39;00m\n\u001b[32m   (...)\u001b[39m\u001b[32m     74\u001b[39m \u001b[33;03m:return: The list of PII entities along with their confidence scores.\u001b[39;00m\n\u001b[32m     75\u001b[39m \u001b[33;03m\"\"\"\u001b[39;00m\n\u001b[32m     76\u001b[39m \u001b[38;5;28;01mtry\u001b[39;00m:\n\u001b[32m---> \u001b[39m\u001b[32m77\u001b[39m     response = \u001b[38;5;28;43mself\u001b[39;49m\u001b[43m.\u001b[49m\u001b[43mcomprehend_client\u001b[49m\u001b[43m.\u001b[49m\u001b[43mdetect_pii_entities\u001b[49m\u001b[43m(\u001b[49m\n\u001b[32m     78\u001b[39m \u001b[43m        \u001b[49m\u001b[43mText\u001b[49m\u001b[43m=\u001b[49m\u001b[43mtext\u001b[49m\u001b[43m,\u001b[49m\u001b[43m \u001b[49m\u001b[43mLanguageCode\u001b[49m\u001b[43m=\u001b[49m\u001b[43mlanguage_code\u001b[49m\n\u001b[32m     79\u001b[39m \u001b[43m    \u001b[49m\u001b[43m)\u001b[49m\n\u001b[32m     80\u001b[39m     entities = response[\u001b[33m\"\u001b[39m\u001b[33mEntities\u001b[39m\u001b[33m\"\u001b[39m]\n\u001b[32m     81\u001b[39m \u001b[38;5;28;01mexcept\u001b[39;00m ClientError:\n",
      "\u001b[36mFile \u001b[39m\u001b[32m~/anaconda3/envs/awsenv/lib/python3.13/site-packages/botocore/client.py:569\u001b[39m, in \u001b[36mClientCreator._create_api_method.<locals>._api_call\u001b[39m\u001b[34m(self, *args, **kwargs)\u001b[39m\n\u001b[32m    565\u001b[39m     \u001b[38;5;28;01mraise\u001b[39;00m \u001b[38;5;167;01mTypeError\u001b[39;00m(\n\u001b[32m    566\u001b[39m         \u001b[33mf\u001b[39m\u001b[33m\"\u001b[39m\u001b[38;5;132;01m{\u001b[39;00mpy_operation_name\u001b[38;5;132;01m}\u001b[39;00m\u001b[33m() only accepts keyword arguments.\u001b[39m\u001b[33m\"\u001b[39m\n\u001b[32m    567\u001b[39m     )\n\u001b[32m    568\u001b[39m \u001b[38;5;66;03m# The \"self\" in this scope is referring to the BaseClient.\u001b[39;00m\n\u001b[32m--> \u001b[39m\u001b[32m569\u001b[39m \u001b[38;5;28;01mreturn\u001b[39;00m \u001b[38;5;28;43mself\u001b[39;49m\u001b[43m.\u001b[49m\u001b[43m_make_api_call\u001b[49m\u001b[43m(\u001b[49m\u001b[43moperation_name\u001b[49m\u001b[43m,\u001b[49m\u001b[43m \u001b[49m\u001b[43mkwargs\u001b[49m\u001b[43m)\u001b[49m\n",
      "\u001b[36mFile \u001b[39m\u001b[32m~/anaconda3/envs/awsenv/lib/python3.13/site-packages/botocore/client.py:980\u001b[39m, in \u001b[36mBaseClient._make_api_call\u001b[39m\u001b[34m(self, operation_name, api_params)\u001b[39m\n\u001b[32m    976\u001b[39m \u001b[38;5;28;01mif\u001b[39;00m properties:\n\u001b[32m    977\u001b[39m     \u001b[38;5;66;03m# Pass arbitrary endpoint info with the Request\u001b[39;00m\n\u001b[32m    978\u001b[39m     \u001b[38;5;66;03m# for use during construction.\u001b[39;00m\n\u001b[32m    979\u001b[39m     request_context[\u001b[33m'\u001b[39m\u001b[33mendpoint_properties\u001b[39m\u001b[33m'\u001b[39m] = properties\n\u001b[32m--> \u001b[39m\u001b[32m980\u001b[39m request_dict = \u001b[38;5;28;43mself\u001b[39;49m\u001b[43m.\u001b[49m\u001b[43m_convert_to_request_dict\u001b[49m\u001b[43m(\u001b[49m\n\u001b[32m    981\u001b[39m \u001b[43m    \u001b[49m\u001b[43mapi_params\u001b[49m\u001b[43m=\u001b[49m\u001b[43mapi_params\u001b[49m\u001b[43m,\u001b[49m\n\u001b[32m    982\u001b[39m \u001b[43m    \u001b[49m\u001b[43moperation_model\u001b[49m\u001b[43m=\u001b[49m\u001b[43moperation_model\u001b[49m\u001b[43m,\u001b[49m\n\u001b[32m    983\u001b[39m \u001b[43m    \u001b[49m\u001b[43mendpoint_url\u001b[49m\u001b[43m=\u001b[49m\u001b[43mendpoint_url\u001b[49m\u001b[43m,\u001b[49m\n\u001b[32m    984\u001b[39m \u001b[43m    \u001b[49m\u001b[43mcontext\u001b[49m\u001b[43m=\u001b[49m\u001b[43mrequest_context\u001b[49m\u001b[43m,\u001b[49m\n\u001b[32m    985\u001b[39m \u001b[43m    \u001b[49m\u001b[43mheaders\u001b[49m\u001b[43m=\u001b[49m\u001b[43madditional_headers\u001b[49m\u001b[43m,\u001b[49m\n\u001b[32m    986\u001b[39m \u001b[43m\u001b[49m\u001b[43m)\u001b[49m\n\u001b[32m    987\u001b[39m resolve_checksum_context(request_dict, operation_model, api_params)\n\u001b[32m    989\u001b[39m service_id = \u001b[38;5;28mself\u001b[39m._service_model.service_id.hyphenize()\n",
      "\u001b[36mFile \u001b[39m\u001b[32m~/anaconda3/envs/awsenv/lib/python3.13/site-packages/botocore/client.py:1047\u001b[39m, in \u001b[36mBaseClient._convert_to_request_dict\u001b[39m\u001b[34m(self, api_params, operation_model, endpoint_url, context, headers, set_user_agent_header)\u001b[39m\n\u001b[32m   1038\u001b[39m \u001b[38;5;28;01mdef\u001b[39;00m\u001b[38;5;250m \u001b[39m\u001b[34m_convert_to_request_dict\u001b[39m(\n\u001b[32m   1039\u001b[39m     \u001b[38;5;28mself\u001b[39m,\n\u001b[32m   1040\u001b[39m     api_params,\n\u001b[32m   (...)\u001b[39m\u001b[32m   1045\u001b[39m     set_user_agent_header=\u001b[38;5;28;01mTrue\u001b[39;00m,\n\u001b[32m   1046\u001b[39m ):\n\u001b[32m-> \u001b[39m\u001b[32m1047\u001b[39m     request_dict = \u001b[38;5;28;43mself\u001b[39;49m\u001b[43m.\u001b[49m\u001b[43m_serializer\u001b[49m\u001b[43m.\u001b[49m\u001b[43mserialize_to_request\u001b[49m\u001b[43m(\u001b[49m\n\u001b[32m   1048\u001b[39m \u001b[43m        \u001b[49m\u001b[43mapi_params\u001b[49m\u001b[43m,\u001b[49m\u001b[43m \u001b[49m\u001b[43moperation_model\u001b[49m\n\u001b[32m   1049\u001b[39m \u001b[43m    \u001b[49m\u001b[43m)\u001b[49m\n\u001b[32m   1050\u001b[39m     \u001b[38;5;28;01mif\u001b[39;00m \u001b[38;5;129;01mnot\u001b[39;00m \u001b[38;5;28mself\u001b[39m._client_config.inject_host_prefix:\n\u001b[32m   1051\u001b[39m         request_dict.pop(\u001b[33m'\u001b[39m\u001b[33mhost_prefix\u001b[39m\u001b[33m'\u001b[39m, \u001b[38;5;28;01mNone\u001b[39;00m)\n",
      "\u001b[36mFile \u001b[39m\u001b[32m~/anaconda3/envs/awsenv/lib/python3.13/site-packages/botocore/validate.py:381\u001b[39m, in \u001b[36mParamValidationDecorator.serialize_to_request\u001b[39m\u001b[34m(self, parameters, operation_model)\u001b[39m\n\u001b[32m    377\u001b[39m     report = \u001b[38;5;28mself\u001b[39m._param_validator.validate(\n\u001b[32m    378\u001b[39m         parameters, operation_model.input_shape\n\u001b[32m    379\u001b[39m     )\n\u001b[32m    380\u001b[39m     \u001b[38;5;28;01mif\u001b[39;00m report.has_errors():\n\u001b[32m--> \u001b[39m\u001b[32m381\u001b[39m         \u001b[38;5;28;01mraise\u001b[39;00m ParamValidationError(report=report.generate_report())\n\u001b[32m    382\u001b[39m \u001b[38;5;28;01mreturn\u001b[39;00m \u001b[38;5;28mself\u001b[39m._serializer.serialize_to_request(\n\u001b[32m    383\u001b[39m     parameters, operation_model\n\u001b[32m    384\u001b[39m )\n",
      "\u001b[31mParamValidationError\u001b[39m: Parameter validation failed:\nInvalid type for parameter Text, value: nan, type: <class 'float'>, valid types: <class 'str'>"
     ]
    }
   ],
   "source": [
    "df = pd.read_csv(\"s3://pearsoncomprehend/comprehendData/Anonymized_Free-form_PII_Dataset.csv\",delimiter=':',nrows=10)\n",
    "\n",
    "'''instantiate wrapper class'''\n",
    "comp_detect = ComprehendDetect(comprehend_client)\n",
    "print(df)\n",
    "'''return PI detections as dataframe'''\n",
    "df_pi = detect_pi(df,comp_detect)\n",
    "\n",
    "'''Redact PI detections'''\n",
    "df_redacted = redact_df(df,df_pi)\n",
    "pprint(df_redacted)"
   ]
  },
  {
   "cell_type": "markdown",
   "id": "129ff448",
   "metadata": {},
   "source": [
    "### Run Comprehend detection and redaction on 10 rows of sample data from S3 save results to local storage"
   ]
  },
  {
   "cell_type": "code",
   "execution_count": null,
   "id": "775b7bbe",
   "metadata": {},
   "outputs": [],
   "source": [
    "df = pd.read_csv(\"s3://pearsoncomprehend/comprehendData/pii_test_faker.csv\",delimiter=\",\", nrows=10)\n",
    "df.dropna()\n",
    "\n",
    "'''instantiate wrapper class'''\n",
    "comp_detect = ComprehendDetect(comprehend_client)\n",
    "\n",
    "'''return PI detections as dataframe'''\n",
    "df_pi = detect_pi(df,comp_detect)\n",
    "\n",
    "'''Redact PI detections'''\n",
    "df_redacted = redact_df(df,df_pi)\n",
    "\n",
    "'''Rescan for excluded names'''\n",
    "df_names = detect_names(df_redacted,comp_detect)\n",
    "\n",
    "'''redact names'''\n",
    "df_redacted = redact_df(df_redacted,df_names)\n",
    "\n",
    "'''Write 10 row data to local storage'''\n",
    "df_pi.to_csv(\"data/detectedPI.csv\",index=False)\n",
    "df_names.to_csv(\"data/detectedNames.csv\",index=False)\n",
    "df_redacted.to_csv(\"data/fakerRedacted.csv\",index=False)\n",
    "df[:10].to_csv(\"data/faker10Rows.csv\",index=False)\n"
   ]
  },
  {
   "cell_type": "markdown",
   "id": "0c70575f",
   "metadata": {},
   "source": [
    "### Run Comprehend detection and redaction on 1000 rows of sample data in S3"
   ]
  },
  {
   "cell_type": "code",
   "execution_count": 17,
   "id": "0bfbfdc5",
   "metadata": {},
   "outputs": [],
   "source": [
    "df = pd.read_csv(\"s3://pearsoncomprehend/comprehendData/pii_test_faker.csv\",delimiter=\",\")\n",
    "df.dropna()\n",
    "\n",
    "'''instantiate wrapper class'''\n",
    "comp_detect = ComprehendDetect(comprehend_client)\n",
    "\n",
    "'''return PI detections as dataframe'''\n",
    "df_pi = detect_pi(df,comp_detect)\n",
    "\n",
    "'''Redact PI detections'''\n",
    "df_redacted = redact_df(df,df_pi)\n",
    "\n",
    "'''Rescan for excluded names'''\n",
    "df_names = detect_names(df_redacted,comp_detect)\n",
    "\n",
    "'''redact names'''\n",
    "df_redacted = redact_df(df_redacted,df_names)\n",
    "\n",
    "'''Write results back to S3'''\n",
    "df_pi.to_csv(\"s3://pearsoncomprehend/comprehendData/detectedPI.csv\",index=False)\n",
    "df_names.to_csv(\"s3://pearsoncomprehend/comprehendData/detectedNames.csv\",index=False)\n",
    "df_redacted.to_csv(\"s3://pearsoncomprehend/comprehendData/fakerRedacted.csv\",index=False)"
   ]
  },
  {
   "cell_type": "markdown",
   "id": "5fcb8c56",
   "metadata": {},
   "source": [
    "### Generate PI Detection Report"
   ]
  },
  {
   "cell_type": "code",
   "execution_count": null,
   "id": "bbc999cd",
   "metadata": {},
   "outputs": [],
   "source": [
    "generator = PIDetectionReportGenerator(\"s3://pearsoncomprehend/comprehendData/detectedPI.csv\")\n",
    "generator.generate_markdown_report()"
   ]
  },
  {
   "cell_type": "code",
   "execution_count": null,
   "id": "2e39db83",
   "metadata": {},
   "outputs": [],
   "source": [
    "from IPython.display import Markdown, display\n",
    "with open(\"pi_detection_report.md\", \"r\") as f:\n",
    "    markdown_string = f.read()\n",
    "display(Markdown(markdown_string))"
   ]
  }
 ],
 "metadata": {
  "kernelspec": {
   "display_name": "awsenv",
   "language": "python",
   "name": "python3"
  },
  "language_info": {
   "codemirror_mode": {
    "name": "ipython",
    "version": 3
   },
   "file_extension": ".py",
   "mimetype": "text/x-python",
   "name": "python",
   "nbconvert_exporter": "python",
   "pygments_lexer": "ipython3",
   "version": "3.13.2"
  }
 },
 "nbformat": 4,
 "nbformat_minor": 5
}
