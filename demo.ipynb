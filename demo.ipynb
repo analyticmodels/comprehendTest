{
 "cells": [
  {
   "cell_type": "code",
   "execution_count": 2,
   "id": "6e4fe2b7",
   "metadata": {},
   "outputs": [
    {
     "ename": "ModuleNotFoundError",
     "evalue": "No module named 'pandas'",
     "output_type": "error",
     "traceback": [
      "\u001b[31m---------------------------------------------------------------------------\u001b[39m",
      "\u001b[31mModuleNotFoundError\u001b[39m                       Traceback (most recent call last)",
      "\u001b[36mCell\u001b[39m\u001b[36m \u001b[39m\u001b[32mIn[2]\u001b[39m\u001b[32m, line 1\u001b[39m\n\u001b[32m----> \u001b[39m\u001b[32m1\u001b[39m \u001b[38;5;28;01mimport\u001b[39;00m\u001b[38;5;250m \u001b[39m\u001b[34;01mpandas\u001b[39;00m\u001b[38;5;250m \u001b[39m\u001b[38;5;28;01mas\u001b[39;00m\u001b[38;5;250m \u001b[39m\u001b[34;01mpd\u001b[39;00m\n\u001b[32m      2\u001b[39m \u001b[38;5;28;01mfrom\u001b[39;00m\u001b[38;5;250m \u001b[39m\u001b[34;01mpprint\u001b[39;00m\u001b[38;5;250m \u001b[39m\u001b[38;5;28;01mimport\u001b[39;00m pprint\n\u001b[32m      3\u001b[39m \u001b[38;5;28;01mfrom\u001b[39;00m\u001b[38;5;250m \u001b[39m\u001b[34;01mcomprehend_detect\u001b[39;00m\u001b[38;5;250m \u001b[39m\u001b[38;5;28;01mimport\u001b[39;00m ComprehendDetect\n",
      "\u001b[31mModuleNotFoundError\u001b[39m: No module named 'pandas'"
     ]
    }
   ],
   "source": [
    "import pandas as pd\n",
    "from pprint import pprint\n",
    "from comprehend_detect import ComprehendDetect\n",
    "from detect_pi_si import *\n",
    "from PIDetectAnalysis import *\n",
    "import boto3\n",
    "from botocore.exceptions import ClientError\n",
    "import warnings\n",
    "warnings.filterwarnings('ignore')"
   ]
  },
  {
   "cell_type": "markdown",
   "id": "0c70575f",
   "metadata": {},
   "source": [
    "Run Comprehend detection and redaction on 1000 rows of sample data in S3 and write resutls to S3"
   ]
  },
  {
   "cell_type": "code",
   "execution_count": 1,
   "id": "0bfbfdc5",
   "metadata": {},
   "outputs": [
    {
     "ename": "NameError",
     "evalue": "name 'pd' is not defined",
     "output_type": "error",
     "traceback": [
      "\u001b[31m---------------------------------------------------------------------------\u001b[39m",
      "\u001b[31mNameError\u001b[39m                                 Traceback (most recent call last)",
      "\u001b[36mCell\u001b[39m\u001b[36m \u001b[39m\u001b[32mIn[1]\u001b[39m\u001b[32m, line 1\u001b[39m\n\u001b[32m----> \u001b[39m\u001b[32m1\u001b[39m df = \u001b[43mpd\u001b[49m.read_csv(\u001b[33m\"\u001b[39m\u001b[33ms3://pearsoncomprehend/comprehendData/pii_test_faker.csv\u001b[39m\u001b[33m\"\u001b[39m,delimiter=\u001b[33m\"\u001b[39m\u001b[33m,\u001b[39m\u001b[33m\"\u001b[39m,nrows=\u001b[32m10\u001b[39m)\n\u001b[32m      2\u001b[39m df.dropna()\n\u001b[32m      3\u001b[39m comprehend_client = boto3.client(\u001b[33m\"\u001b[39m\u001b[33mcomprehend\u001b[39m\u001b[33m\"\u001b[39m)\n",
      "\u001b[31mNameError\u001b[39m: name 'pd' is not defined"
     ]
    }
   ],
   "source": [
    "df = pd.read_csv(\"s3://pearsoncomprehend/comprehendData/pii_test_faker.csv\",delimiter=\",\",nrows=10)\n",
    "df.dropna()\n",
    "comprehend_client = boto3.client(\"comprehend\")\n",
    "#instantiate wrapper class\n",
    "comp_detect = ComprehendDetect(comprehend_client)\n",
    "\n",
    "#return PII detections\n",
    "df_pi = detect_pi(df)\n",
    "df_pi.to_csv(\"s3://pearsoncomprehend/comprehendData/detectedPI.csv\",index=False)\n",
    "#redact PII detections\n",
    "df_redacted = redact_df(df,df_pi)\n",
    "\n",
    "#rescan for excluded names\n",
    "df_names = detect_names(df_redacted)\n",
    "df_names.to_csv(\"s3://pearsoncomprehend/comprehendData/detectedNames.csv\",index=False)\n",
    "#redact names\n",
    "df_redacted = redact_df(df_redacted,df_names)\n",
    "\n",
    "df_redacted.to_csv(\"s3://pearsoncomprehend/comprehendData/fakerRedacted.csv\",index=False)\n",
    "generator = PIDetectionReportGenerator(\"data/detectedPI.csv\")\n",
    "generator.generate_markdown_report()"
   ]
  },
  {
   "cell_type": "code",
   "execution_count": null,
   "id": "e81f6701",
   "metadata": {},
   "outputs": [],
   "source": []
  }
 ],
 "metadata": {
  "kernelspec": {
   "display_name": ".venv",
   "language": "python",
   "name": "python3"
  },
  "language_info": {
   "codemirror_mode": {
    "name": "ipython",
    "version": 3
   },
   "file_extension": ".py",
   "mimetype": "text/x-python",
   "name": "python",
   "nbconvert_exporter": "python",
   "pygments_lexer": "ipython3",
   "version": "3.13.3"
  }
 },
 "nbformat": 4,
 "nbformat_minor": 5
}
