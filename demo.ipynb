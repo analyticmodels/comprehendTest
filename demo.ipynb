{
 "cells": [
  {
   "cell_type": "code",
   "execution_count": null,
   "id": "6e4fe2b7",
   "metadata": {},
   "outputs": [],
   "source": [
    "import pandas as pd\n",
    "from pprint import pprint\n",
    "from comprehend_detect import ComprehendDetect\n",
    "from detect_pi_si import *\n",
    "from PIDetectAnalysis import *\n",
    "import boto3\n",
    "from botocore.exceptions import ClientError\n",
    "import warnings\n",
    "warnings.filterwarnings('ignore')\n",
    "comprehend_client = boto3.client(\"comprehend\")"
   ]
  },
  {
   "cell_type": "code",
   "execution_count": null,
   "id": "e51605da",
   "metadata": {},
   "outputs": [],
   "source": []
  },
  {
   "cell_type": "markdown",
   "id": "0c70575f",
   "metadata": {},
   "source": [
    "### Run Comprehend detection and redaction on 1000 rows of sample data in S3"
   ]
  },
  {
   "cell_type": "code",
   "execution_count": null,
   "id": "0bfbfdc5",
   "metadata": {},
   "outputs": [
    {
     "name": "stdout",
     "output_type": "stream",
     "text": [
      "Markdown report generated successfully: reports/PI_detection_report.md\n"
     ]
    },
    {
     "data": {
      "text/plain": [
       "'reports/PI_detection_report.md'"
      ]
     },
     "execution_count": 2,
     "metadata": {},
     "output_type": "execute_result"
    }
   ],
   "source": [
    "df = pd.read_csv(\"s3://pearsoncomprehend/comprehendData/pii_test_faker.csv\",delimiter=\",\")\n",
    "df.dropna()\n",
    "\n",
    "#instantiate wrapper class\n",
    "comp_detect = ComprehendDetect(comprehend_client)\n",
    "\n",
    "#return PII detections\n",
    "df_pi = detect_pi(df,comp_detect)\n",
    "\n",
    "#redact PII detections\n",
    "df_redacted = redact_df(df,df_pi)\n",
    "\n",
    "#rescan for excluded names\n",
    "df_names = detect_names(df_redacted,comp_detect)\n",
    "\n",
    "#redact names\n",
    "df_redacted = redact_df(df_redacted,df_names)\n",
    "\n",
    "\n",
    "generator = PIDetectionReportGenerator(\"s3://pearsoncomprehend/comprehendData/detectedPI.csv\")\n",
    "generator.generate_markdown_report()"
   ]
  },
  {
   "cell_type": "markdown",
   "id": "df128b9c",
   "metadata": {},
   "source": [
    "### Write result tables to S3"
   ]
  },
  {
   "cell_type": "code",
   "execution_count": null,
   "id": "e81f6701",
   "metadata": {},
   "outputs": [],
   "source": [
    "df_pi.to_csv(\"s3://pearsoncomprehend/comprehendData/detectedPI.csv\",index=False)\n",
    "df_names.to_csv(\"s3://pearsoncomprehend/comprehendData/detectedNames.csv\",index=False)\n",
    "df_redacted.to_csv(\"s3://pearsoncomprehend/comprehendData/fakerRedacted.csv\",index=False)"
   ]
  }
 ],
 "metadata": {
  "kernelspec": {
   "display_name": "awsenv",
   "language": "python",
   "name": "python3"
  },
  "language_info": {
   "codemirror_mode": {
    "name": "ipython",
    "version": 3
   },
   "file_extension": ".py",
   "mimetype": "text/x-python",
   "name": "python",
   "nbconvert_exporter": "python",
   "pygments_lexer": "ipython3",
   "version": "3.13.2"
  }
 },
 "nbformat": 4,
 "nbformat_minor": 5
}
