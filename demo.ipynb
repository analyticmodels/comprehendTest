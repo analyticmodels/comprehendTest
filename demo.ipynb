{
 "cells": [
  {
   "cell_type": "code",
   "execution_count": 4,
   "id": "6e4fe2b7",
   "metadata": {},
   "outputs": [],
   "source": [
    "import pandas as pd\n",
    "from pprint import pprint\n",
    "from comprehend_detect import ComprehendDetect\n",
    "from detect_pi_si import *\n",
    "from PIDetectAnalysis import *\n",
    "import boto3\n",
    "from botocore.exceptions import ClientError\n",
    "import warnings\n",
    "warnings.filterwarnings('ignore')\n",
    "comprehend_client = boto3.client(\"comprehend\")"
   ]
  },
  {
   "cell_type": "code",
   "execution_count": 16,
   "id": "e51605da",
   "metadata": {},
   "outputs": [
    {
     "name": "stdout",
     "output_type": "stream",
     "text": [
      "[{'BeginOffset': 0,\n",
      "  'EndOffset': 9,\n",
      "  'Score': 0.9999734163284302,\n",
      "  'Type': 'NAME'},\n",
      " {'BeginOffset': 28,\n",
      "  'EndOffset': 58,\n",
      "  'Score': 0.9999976754188538,\n",
      "  'Type': 'ADDRESS'},\n",
      " {'BeginOffset': 67,\n",
      "  'EndOffset': 76,\n",
      "  'Score': 0.9999994039535522,\n",
      "  'Type': 'SSN'},\n",
      " {'BeginOffset': 96,\n",
      "  'EndOffset': 112,\n",
      "  'Score': 0.9999847412109375,\n",
      "  'Type': 'CREDIT_DEBIT_NUMBER'},\n",
      " {'BeginOffset': 113,\n",
      "  'EndOffset': 137,\n",
      "  'Score': 0.9999936819076538,\n",
      "  'Type': 'EMAIL'},\n",
      " {'BeginOffset': 138,\n",
      "  'EndOffset': 164,\n",
      "  'Score': 0.9999992251396179,\n",
      "  'Type': 'URL'}]\n"
     ]
    }
   ],
   "source": [
    "text = \"Sean Dyer a person lived at 4972 W. 129th Ter. Leawood, KS has ssn 489864926 credit card number 4734391837502655 analyticmodels@gmail.com https://analyticmodels.net\"\n",
    "comp_detect = ComprehendDetect(comprehend_client)\n",
    "pii_list = comp_detect.detect_pii(text, 'en')\n",
    "pprint(pii_list)"
   ]
  },
  {
   "cell_type": "code",
   "execution_count": 7,
   "id": "f5855398",
   "metadata": {},
   "outputs": [
    {
     "name": "stdout",
     "output_type": "stream",
     "text": [
      "0    Allison Hill from East Jill working at Yang, G...\n",
      "1    Gina Moore from Curtisfurt working at Howard L...\n",
      "2    Victoria Wyatt from South Joshuastad working a...\n",
      "3    Jennifer Jones from Jasonfort working at Wilke...\n",
      "4    Shannon Smith from Lake Nicoleview working at ...\n",
      "5    Shawn Arroyo from Lake Toddland working at Can...\n",
      "6    Leah Smith from East Carloston working at Jone...\n",
      "7    Gerald Hensley from East James working at Tayl...\n",
      "8    Sarah Martin from Olsonfurt working at Martin ...\n",
      "9    Edward Novak from Lake Leeton working at Woods...\n",
      "Name: free_form_text, dtype: object\n"
     ]
    },
    {
     "ename": "AttributeError",
     "evalue": "'Series' object has no attribute 'itertuples'",
     "output_type": "error",
     "traceback": [
      "\u001b[31m---------------------------------------------------------------------------\u001b[39m",
      "\u001b[31mAttributeError\u001b[39m                            Traceback (most recent call last)",
      "\u001b[32m/tmp/ipykernel_2340800/3510317214.py\u001b[39m in \u001b[36m?\u001b[39m\u001b[34m()\u001b[39m\n\u001b[32m      3\u001b[39m \u001b[33m'''instantiate wrapper class'''\u001b[39m\n\u001b[32m      4\u001b[39m comp_detect = ComprehendDetect(comprehend_client)\n\u001b[32m      5\u001b[39m print(df)\n\u001b[32m      6\u001b[39m \u001b[33m'''return PI detections as dataframe'''\u001b[39m\n\u001b[32m----> \u001b[39m\u001b[32m7\u001b[39m df_pi = detect_pi(df,comp_detect)\n\u001b[32m      8\u001b[39m \n\u001b[32m      9\u001b[39m \u001b[33m'''Redact PI detections'''\u001b[39m\n\u001b[32m     10\u001b[39m df_redacted = redact_df(df,df_pi)\n",
      "\u001b[32m~/repos/comprehendTest/detect_pi_si.py\u001b[39m in \u001b[36m?\u001b[39m\u001b[34m(df, comp_detect)\u001b[39m\n\u001b[32m      7\u001b[39m \u001b[38;5;28;01mdef\u001b[39;00m detect_pi(df,comp_detect):\n\u001b[32m      8\u001b[39m     df_pi = pd.DataFrame()\n\u001b[32m      9\u001b[39m     n_rows = \u001b[32m0\u001b[39m\n\u001b[32m---> \u001b[39m\u001b[32m10\u001b[39m     \u001b[38;5;28;01mfor\u001b[39;00m row \u001b[38;5;28;01min\u001b[39;00m df.itertuples(index=\u001b[38;5;28;01mFalse\u001b[39;00m, name=\u001b[33m\"row_tuple\"\u001b[39m):\n\u001b[32m     11\u001b[39m         n_rows += \u001b[32m1\u001b[39m\n\u001b[32m     12\u001b[39m         \u001b[38;5;28;01mfor\u001b[39;00m col \u001b[38;5;28;01min\u001b[39;00m df.columns:\n\u001b[32m     13\u001b[39m             print(getattr(row,col))\n",
      "\u001b[32m~/anaconda3/envs/awsenv/lib/python3.13/site-packages/pandas/core/generic.py\u001b[39m in \u001b[36m?\u001b[39m\u001b[34m(self, name)\u001b[39m\n\u001b[32m   6295\u001b[39m             \u001b[38;5;28;01mand\u001b[39;00m name \u001b[38;5;28;01mnot\u001b[39;00m \u001b[38;5;28;01min\u001b[39;00m self._accessors\n\u001b[32m   6296\u001b[39m             \u001b[38;5;28;01mand\u001b[39;00m self._info_axis._can_hold_identifiers_and_holds_name(name)\n\u001b[32m   6297\u001b[39m         ):\n\u001b[32m   6298\u001b[39m             \u001b[38;5;28;01mreturn\u001b[39;00m self[name]\n\u001b[32m-> \u001b[39m\u001b[32m6299\u001b[39m         \u001b[38;5;28;01mreturn\u001b[39;00m object.__getattribute__(self, name)\n",
      "\u001b[31mAttributeError\u001b[39m: 'Series' object has no attribute 'itertuples'"
     ]
    }
   ],
   "source": [
    "df = pd.read_csv(\"s3://pearsoncomprehend/comprehendData/Anonymized_Free-form_PII_Dataset.csv\",delimiter=':',nrows=10)\n",
    "df = df['free_form_text']\n",
    "'''instantiate wrapper class'''\n",
    "comp_detect = ComprehendDetect(comprehend_client)\n",
    "print(df)\n",
    "'''return PI detections as dataframe'''\n",
    "df_pi = detect_pi(df,comp_detect)\n",
    "\n",
    "'''Redact PI detections'''\n",
    "df_redacted = redact_df(df,df_pi)\n",
    "pprint(df_redacted)"
   ]
  },
  {
   "cell_type": "markdown",
   "id": "129ff448",
   "metadata": {},
   "source": [
    "### Run Comprehend detection and redaction on 10 rows of sample data from S3 save results to local storage"
   ]
  },
  {
   "cell_type": "code",
   "execution_count": null,
   "id": "775b7bbe",
   "metadata": {},
   "outputs": [],
   "source": [
    "df = pd.read_csv(\"s3://pearsoncomprehend/comprehendData/pii_test_faker.csv\",delimiter=\",\", nrows=10)\n",
    "df.dropna()\n",
    "\n",
    "'''instantiate wrapper class'''\n",
    "comp_detect = ComprehendDetect(comprehend_client)\n",
    "\n",
    "'''return PI detections as dataframe'''\n",
    "df_pi = detect_pi(df,comp_detect)\n",
    "\n",
    "'''Redact PI detections'''\n",
    "df_redacted = redact_df(df,df_pi)\n",
    "\n",
    "'''Rescan for excluded names'''\n",
    "df_names = detect_names(df_redacted,comp_detect)\n",
    "\n",
    "'''redact names'''\n",
    "df_redacted = redact_df(df_redacted,df_names)\n",
    "\n",
    "'''Write 10 row data to local storage'''\n",
    "df_pi.to_csv(\"data/detectedPI.csv\",index=False)\n",
    "df_names.to_csv(\"data/detectedNames.csv\",index=False)\n",
    "df_redacted.to_csv(\"data/fakerRedacted.csv\",index=False)\n",
    "df[:10].to_csv(\"data/faker10Rows.csv\",index=False)\n"
   ]
  },
  {
   "cell_type": "markdown",
   "id": "0c70575f",
   "metadata": {},
   "source": [
    "### Run Comprehend detection and redaction on 1000 rows of sample data in S3"
   ]
  },
  {
   "cell_type": "code",
   "execution_count": 17,
   "id": "0bfbfdc5",
   "metadata": {},
   "outputs": [],
   "source": [
    "df = pd.read_csv(\"s3://pearsoncomprehend/comprehendData/pii_test_faker.csv\",delimiter=\",\")\n",
    "df.dropna()\n",
    "\n",
    "'''instantiate wrapper class'''\n",
    "comp_detect = ComprehendDetect(comprehend_client)\n",
    "\n",
    "'''return PI detections as dataframe'''\n",
    "df_pi = detect_pi(df,comp_detect)\n",
    "\n",
    "'''Redact PI detections'''\n",
    "df_redacted = redact_df(df,df_pi)\n",
    "\n",
    "'''Rescan for excluded names'''\n",
    "df_names = detect_names(df_redacted,comp_detect)\n",
    "\n",
    "'''redact names'''\n",
    "df_redacted = redact_df(df_redacted,df_names)\n",
    "\n",
    "'''Write results back to S3'''\n",
    "df_pi.to_csv(\"s3://pearsoncomprehend/comprehendData/detectedPI.csv\",index=False)\n",
    "df_names.to_csv(\"s3://pearsoncomprehend/comprehendData/detectedNames.csv\",index=False)\n",
    "df_redacted.to_csv(\"s3://pearsoncomprehend/comprehendData/fakerRedacted.csv\",index=False)"
   ]
  },
  {
   "cell_type": "markdown",
   "id": "5fcb8c56",
   "metadata": {},
   "source": [
    "### Generate PI Detection Report"
   ]
  },
  {
   "cell_type": "code",
   "execution_count": null,
   "id": "bbc999cd",
   "metadata": {},
   "outputs": [],
   "source": [
    "generator = PIDetectionReportGenerator(\"s3://pearsoncomprehend/comprehendData/detectedPI.csv\")\n",
    "generator.generate_markdown_report()"
   ]
  },
  {
   "cell_type": "code",
   "execution_count": null,
   "id": "2e39db83",
   "metadata": {},
   "outputs": [],
   "source": [
    "from IPython.display import Markdown, display\n",
    "with open(\"pi_detection_report.md\", \"r\") as f:\n",
    "    markdown_string = f.read()\n",
    "display(Markdown(markdown_string))"
   ]
  }
 ],
 "metadata": {
  "kernelspec": {
   "display_name": "awsenv",
   "language": "python",
   "name": "python3"
  },
  "language_info": {
   "codemirror_mode": {
    "name": "ipython",
    "version": 3
   },
   "file_extension": ".py",
   "mimetype": "text/x-python",
   "name": "python",
   "nbconvert_exporter": "python",
   "pygments_lexer": "ipython3",
   "version": "3.13.2"
  }
 },
 "nbformat": 4,
 "nbformat_minor": 5
}
