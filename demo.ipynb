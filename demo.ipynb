{
 "cells": [
  {
   "cell_type": "code",
   "execution_count": 1,
   "id": "6e4fe2b7",
   "metadata": {},
   "outputs": [],
   "source": [
    "import pandas as pd\n",
    "from pprint import pprint\n",
    "from comprehend_detect import ComprehendDetect\n",
    "from detect_pi_si import *\n",
    "from PIDetectAnalysis import *\n",
    "import boto3\n",
    "from botocore.exceptions import ClientError\n",
    "import warnings\n",
    "warnings.filterwarnings('ignore')\n",
    "comprehend_client = boto3.client(\"comprehend\")\n",
    "'''instantiate wrapper class'''\n",
    "comp_detect = ComprehendDetect(comprehend_client)"
   ]
  },
  {
   "cell_type": "code",
   "execution_count": 8,
   "id": "e51605da",
   "metadata": {},
   "outputs": [
    {
     "name": "stdout",
     "output_type": "stream",
     "text": [
      "[{'BeginOffset': 0,\n",
      "  'EndOffset': 9,\n",
      "  'Score': 0.9999719858169556,\n",
      "  'Type': 'NAME'},\n",
      " {'BeginOffset': 28,\n",
      "  'EndOffset': 58,\n",
      "  'Score': 0.9999977350234985,\n",
      "  'Type': 'ADDRESS'},\n",
      " {'BeginOffset': 69,\n",
      "  'EndOffset': 80,\n",
      "  'Score': 0.999998927116394,\n",
      "  'Type': 'SSN'},\n",
      " {'BeginOffset': 92,\n",
      "  'EndOffset': 111,\n",
      "  'Score': 0.9999866485595703,\n",
      "  'Type': 'CREDIT_DEBIT_NUMBER'},\n",
      " {'BeginOffset': 112,\n",
      "  'EndOffset': 136,\n",
      "  'Score': 0.9999853372573853,\n",
      "  'Type': 'EMAIL'},\n",
      " {'BeginOffset': 137,\n",
      "  'EndOffset': 163,\n",
      "  'Score': 0.9999992251396179,\n",
      "  'Type': 'URL'}]\n"
     ]
    }
   ],
   "source": [
    "text = \"Sean Dyer a person lived at 4972 W. 129th Ter. Leawood, KS has a ssn 489-86-4926 and credit 4734-3918-3750-2655 analyticmodels@gmail.com https://analyticmodels.net\"\n",
    "comp_detect = ComprehendDetect(comprehend_client)\n",
    "pii_list = comp_detect.detect_pii(text, 'en')\n",
    "pprint(pii_list)"
   ]
  },
  {
   "cell_type": "markdown",
   "id": "b22de39e",
   "metadata": {},
   "source": [
    "### Names fail to detect in common scenarios with addresses"
   ]
  },
  {
   "cell_type": "code",
   "execution_count": null,
   "id": "f5855398",
   "metadata": {},
   "outputs": [
    {
     "name": "stdout",
     "output_type": "stream",
     "text": [
      "[{'BeginOffset': 0,\n",
      "  'EndOffset': 12,\n",
      "  'Score': 0.9874647259712219,\n",
      "  'Type': 'ADDRESS'}]\n"
     ]
    }
   ],
   "source": [
    "text = \"James Smith Street, Seattle, WA working at Wood and Sons says: 'Reduce raise author play move.\"\n",
    "comp_detect = ComprehendDetect(comprehend_client)\n",
    "pii_list = comp_detect.detect_pii(text, 'en')\n",
    "pprint(pii_list)"
   ]
  },
  {
   "cell_type": "markdown",
   "id": "129ff448",
   "metadata": {},
   "source": [
    "### Run Comprehend detection and redaction on 10 rows of sample data from S3 save results to local storage"
   ]
  },
  {
   "cell_type": "code",
   "execution_count": null,
   "id": "775b7bbe",
   "metadata": {},
   "outputs": [],
   "source": [
    "df = pd.read_csv(\"s3://pearsoncomprehend/comprehendData/pii_test_faker.csv\",delimiter=\",\", nrows=10)\n",
    "df.dropna()\n",
    "\n",
    "'''return PI detections as dataframe'''\n",
    "df_pi = detect_pi(df,comp_detect)\n",
    "\n",
    "'''Redact PI detections'''\n",
    "df_redacted = redact_df(df,df_pi)\n",
    "\n",
    "'''Rescan for excluded names'''\n",
    "df_names = detect_names(df_redacted,comp_detect)\n",
    "\n",
    "'''redact names'''\n",
    "df_redacted = redact_df(df_redacted,df_names)\n",
    "\n",
    "'''Write 10 row data to local storage'''\n",
    "df_pi.to_csv(\"data/detectedPI.csv\",index=False)\n",
    "df_names.to_csv(\"data/detectedNames.csv\",index=False)\n",
    "df_redacted.to_csv(\"data/fakerRedacted.csv\",index=False)\n",
    "df[:10].to_csv(\"data/faker10Rows.csv\",index=False)\n"
   ]
  },
  {
   "cell_type": "markdown",
   "id": "0c70575f",
   "metadata": {},
   "source": [
    "### Run Comprehend detection and redaction on 1000 rows of sample data in S3"
   ]
  },
  {
   "cell_type": "code",
   "execution_count": 9,
   "id": "0bfbfdc5",
   "metadata": {},
   "outputs": [],
   "source": [
    "df = pd.read_csv(\"s3://pearsoncomprehend/comprehendData/pii_test_faker.csv\",delimiter=\",\")\n",
    "df.dropna()\n",
    "\n",
    "'''return PI detections as dataframe'''\n",
    "df_pi = detect_pi(df,comp_detect)\n",
    "\n",
    "'''Redact PI detections'''\n",
    "df_redacted = redact_df(df,df_pi)\n",
    "\n",
    "'''Rescan for excluded names'''\n",
    "df_names = detect_names(df_redacted,comp_detect)\n",
    "\n",
    "'''redact names'''\n",
    "df_redacted = redact_df(df_redacted,df_names)\n",
    "\n",
    "'''Write results back to S3'''\n",
    "df_pi.to_csv(\"s3://pearsoncomprehend/comprehendData/detectedPI.csv\",index=False)\n",
    "df_names.to_csv(\"s3://pearsoncomprehend/comprehendData/detectedNames.csv\",index=False)\n",
    "df_redacted.to_csv(\"s3://pearsoncomprehend/comprehendData/fakerRedacted.csv\",index=False)"
   ]
  },
  {
   "cell_type": "markdown",
   "id": "5fcb8c56",
   "metadata": {},
   "source": [
    "### Generate PI Detection Report"
   ]
  },
  {
   "cell_type": "code",
   "execution_count": 10,
   "id": "bbc999cd",
   "metadata": {},
   "outputs": [
    {
     "name": "stdout",
     "output_type": "stream",
     "text": [
      "Markdown report generated successfully: reports/PI_detection_report.md\n"
     ]
    },
    {
     "data": {
      "text/plain": [
       "'reports/PI_detection_report.md'"
      ]
     },
     "execution_count": 10,
     "metadata": {},
     "output_type": "execute_result"
    }
   ],
   "source": [
    "generator = PIDetectionReportGenerator(\"s3://pearsoncomprehend/comprehendData/detectedPI.csv\")\n",
    "generator.generate_markdown_report()"
   ]
  }
 ],
 "metadata": {
  "kernelspec": {
   "display_name": "awsenv",
   "language": "python",
   "name": "python3"
  },
  "language_info": {
   "codemirror_mode": {
    "name": "ipython",
    "version": 3
   },
   "file_extension": ".py",
   "mimetype": "text/x-python",
   "name": "python",
   "nbconvert_exporter": "python",
   "pygments_lexer": "ipython3",
   "version": "3.13.2"
  }
 },
 "nbformat": 4,
 "nbformat_minor": 5
}
