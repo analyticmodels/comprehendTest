{
 "cells": [
  {
   "cell_type": "code",
   "execution_count": 12,
   "id": "55cf27fa",
   "metadata": {},
   "outputs": [
    {
     "name": "stdout",
     "output_type": "stream",
     "text": [
      "0         aiobotocore==2.22.0\n",
      "1     aiohappyeyeballs==2.6.1\n",
      "2            aiohttp==3.11.18\n",
      "3        aioitertools==0.12.0\n",
      "4            aiosignal==1.3.2\n",
      "               ...           \n",
      "70                    wcwidth\n",
      "71              wheel==0.45.1\n",
      "72              wrapt==1.17.2\n",
      "73               yarl==1.20.0\n",
      "74                       zipp\n",
      "Name: 0, Length: 75, dtype: object\n"
     ]
    }
   ],
   "source": [
    "import pandas as pd\n",
    "\n",
    "df =  pd.read_csv(\"requirements.txt\", delimiter=' ',header=None)\n",
    "print(df[0])\n",
    "df[0].to_csv(\"requirements2.txt\",index=False)"
   ]
  }
 ],
 "metadata": {
  "kernelspec": {
   "display_name": "awsenv",
   "language": "python",
   "name": "python3"
  },
  "language_info": {
   "codemirror_mode": {
    "name": "ipython",
    "version": 3
   },
   "file_extension": ".py",
   "mimetype": "text/x-python",
   "name": "python",
   "nbconvert_exporter": "python",
   "pygments_lexer": "ipython3",
   "version": "3.13.2"
  }
 },
 "nbformat": 4,
 "nbformat_minor": 5
}
